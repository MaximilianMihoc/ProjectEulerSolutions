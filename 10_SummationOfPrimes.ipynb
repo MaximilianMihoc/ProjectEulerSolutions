{
 "cells": [
  {
   "cell_type": "markdown",
   "metadata": {},
   "source": [
    "# Summation of primes\n",
    "The sum of the primes below 10 is 2 + 3 + 5 + 7 = 17.\n",
    "\n",
    "Find the sum of all the primes below two million."
   ]
  },
  {
   "cell_type": "code",
   "execution_count": 2,
   "metadata": {
    "collapsed": true
   },
   "outputs": [],
   "source": [
    "def is_prime(num):\n",
    "    if num > 1:\n",
    "        n = round(num / 2) + 1\n",
    "        for i in range(2,n):\n",
    "            if(num % i == 0):\n",
    "                return False\n",
    "        return True\n",
    "    return False"
   ]
  },
  {
   "cell_type": "code",
   "execution_count": 3,
   "metadata": {
    "collapsed": false
   },
   "outputs": [
    {
     "name": "stdout",
     "output_type": "stream",
     "text": [
      "17\n"
     ]
    }
   ],
   "source": [
    "# get sum of primes below a number\n",
    "def getPrimeSumBelowNum(below):\n",
    "    sum = 0\n",
    "    for i in range(2, below):\n",
    "        if is_prime(i):\n",
    "            sum += i\n",
    "    return sum\n",
    "print(getPrimeSumBelowNum(10))\n"
   ]
  },
  {
   "cell_type": "code",
   "execution_count": null,
   "metadata": {
    "collapsed": false
   },
   "outputs": [],
   "source": [
    "# print(\"Sum of all the primes below two million is {0}\".format(getPrimeSumBelowNum(2000000)))\n",
    "# takes too long to execute"
   ]
  },
  {
   "cell_type": "markdown",
   "metadata": {
    "collapsed": true
   },
   "source": [
    "# Sieve of Eratosthenes\n",
    "In mathematics, the sieve of Eratosthenes is a simple, ancient algorithm for finding all prime numbers up to any given limit.\n",
    "### Pseudocode\n",
    "The sieve of Eratosthenes can be expressed in pseudocode, as follows:[7][8]\n",
    "\n",
    " Input: an integer n > 1.\n",
    " \n",
    " Let A be an array of Boolean values, indexed by integers 2 to n,\n",
    " initially all set to true.\n",
    " \n",
    " for i = 2, 3, 4, ..., not exceeding √n:\n",
    " \n",
    "   if A[i] is true:\n",
    "   \n",
    "     for j = i^2, i^2+i, i^2+2i, i^2+3i, ..., not exceeding n:\n",
    "     \n",
    "       A[j] := false.\n",
    "       \n",
    " \n",
    " Output: all i such that A[i] is true."
   ]
  },
  {
   "cell_type": "code",
   "execution_count": 3,
   "metadata": {
    "collapsed": false
   },
   "outputs": [],
   "source": [
    "# n = 2000001\n",
    "n = 20\n",
    "primesList = [True] * (n+1)\n",
    "# primesList[4] = False"
   ]
  },
  {
   "cell_type": "code",
   "execution_count": 4,
   "metadata": {
    "collapsed": false
   },
   "outputs": [
    {
     "name": "stdout",
     "output_type": "stream",
     "text": [
      "[True, True, True, True, True, True, True, True, True, True, True, True, True, True, True, True, True, True, True, True, True]\n"
     ]
    }
   ],
   "source": [
    "print(primesList)"
   ]
  },
  {
   "cell_type": "code",
   "execution_count": 5,
   "metadata": {
    "collapsed": false
   },
   "outputs": [
    {
     "name": "stdout",
     "output_type": "stream",
     "text": [
      "[True, True, True, True, False, True, False, True, False, False, False, True, False, True, False, False, False, True, False, True, False]\n"
     ]
    }
   ],
   "source": [
    "import math\n",
    "for i in range(2, round(math.sqrt(n))):\n",
    "    if primesList[i]:\n",
    "        for j in range(0, n):\n",
    "            if i*i+j*i <= n:\n",
    "                primesList[i*i+j*i] = False\n",
    "            else:\n",
    "                break\n",
    "print(primesList)"
   ]
  },
  {
   "cell_type": "markdown",
   "metadata": {},
   "source": [
    "### Write a function for the above checks"
   ]
  },
  {
   "cell_type": "code",
   "execution_count": 18,
   "metadata": {
    "collapsed": false
   },
   "outputs": [],
   "source": [
    "import math\n",
    "def getPrimes(n):\n",
    "    primesList = [True] * (n+1)\n",
    "    print(round(math.sqrt(n)))\n",
    "    for i in range(2, round(math.sqrt(n))+1):\n",
    "        # print(\"i = {0}\".format(i))\n",
    "        if primesList[i]:\n",
    "            for j in range(0, n):\n",
    "                if i*i+j*i <= n:\n",
    "                    # print(i*i+j*i)\n",
    "                    primesList[i*i+j*i] = False\n",
    "                    \n",
    "    listPrimes = []    \n",
    "    i = 2\n",
    "    while i < len(primesList):\n",
    "        if primesList[i]:\n",
    "            listPrimes.append(i)\n",
    "        i += 1\n",
    "        \n",
    "    return listPrimes"
   ]
  },
  {
   "cell_type": "code",
   "execution_count": 19,
   "metadata": {
    "collapsed": false
   },
   "outputs": [
    {
     "name": "stdout",
     "output_type": "stream",
     "text": [
      "3\n",
      "[2, 3, 5, 7]\n",
      "Sum of primes up to 10 is: 17\n"
     ]
    }
   ],
   "source": [
    "primesUpto10 = getPrimes(10)\n",
    "print(primesUpto10)\n",
    "print(\"Sum of primes up to 10 is: {0}\".format(sum(primesUpto10)))"
   ]
  },
  {
   "cell_type": "code",
   "execution_count": 21,
   "metadata": {
    "collapsed": false
   },
   "outputs": [
    {
     "name": "stdout",
     "output_type": "stream",
     "text": [
      "1414\n",
      "Sum of primes up to 2000000 is: 142913828922\n"
     ]
    }
   ],
   "source": [
    "primesUpto2mil = getPrimes(2000000)\n",
    "print(\"Sum of primes up to 2000000 is: {0}\".format(sum(primesUpto2mil)))"
   ]
  },
  {
   "cell_type": "code",
   "execution_count": null,
   "metadata": {
    "collapsed": true
   },
   "outputs": [],
   "source": []
  }
 ],
 "metadata": {
  "kernelspec": {
   "display_name": "Python 3",
   "language": "python",
   "name": "python3"
  },
  "language_info": {
   "codemirror_mode": {
    "name": "ipython",
    "version": 3
   },
   "file_extension": ".py",
   "mimetype": "text/x-python",
   "name": "python",
   "nbconvert_exporter": "python",
   "pygments_lexer": "ipython3",
   "version": "3.5.1"
  }
 },
 "nbformat": 4,
 "nbformat_minor": 0
}
