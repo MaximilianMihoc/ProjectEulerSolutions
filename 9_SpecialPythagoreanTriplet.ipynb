{
 "cells": [
  {
   "cell_type": "markdown",
   "metadata": {},
   "source": [
    "# Special Pythagorean triplet\n",
    "A Pythagorean triplet is a set of three natural numbers, a < b < c, for which,\n",
    "\n",
    "a^2 + b^2 = c^2\n",
    "For example, 3^2 + 4^2 = 9 + 16 = 25 = 5^2.\n",
    "\n",
    "There exists exactly one Pythagorean triplet for which a + b + c = 1000.\n",
    "Find the product abc."
   ]
  },
  {
   "cell_type": "code",
   "execution_count": 1,
   "metadata": {
    "collapsed": false
   },
   "outputs": [
    {
     "name": "stdout",
     "output_type": "stream",
     "text": [
      "9\n"
     ]
    }
   ],
   "source": [
    "print(3**2)"
   ]
  },
  {
   "cell_type": "code",
   "execution_count": 2,
   "metadata": {
    "collapsed": false
   },
   "outputs": [
    {
     "name": "stdout",
     "output_type": "stream",
     "text": [
      "1^2 = 1\n",
      "2^2 = 4\n"
     ]
    }
   ],
   "source": [
    "for i in range(1, 3):\n",
    "    print(\"{0}^2 = {1}\".format(i, i**i))"
   ]
  },
  {
   "cell_type": "code",
   "execution_count": 12,
   "metadata": {
    "collapsed": false
   },
   "outputs": [
    {
     "name": "stdout",
     "output_type": "stream",
     "text": [
      "200 375 425\n",
      "Product is: 31875000\n"
     ]
    }
   ],
   "source": [
    "for i in range(1, 1000):\n",
    "    for j in range (i, 1000):\n",
    "        for k in range(j, 1000):\n",
    "            if ((i*i + j*j) == k*k) and (i + j + k == 1000):\n",
    "                print(\"{0} {1} {2}\".format(i, j, k))\n",
    "                print(\"Product is: {0}\".format(i*j*k))\n",
    "        "
   ]
  },
  {
   "cell_type": "markdown",
   "metadata": {},
   "source": [
    "### More efficient Solution\n",
    "c = 1000 - a - b; It's one of the conditions of the problem (we don't need to scan all possible 'c': just calb vculate it)"
   ]
  },
  {
   "cell_type": "code",
   "execution_count": 19,
   "metadata": {
    "collapsed": false
   },
   "outputs": [
    {
     "name": "stdout",
     "output_type": "stream",
     "text": [
      "200 375 425\n",
      "Product is: 31875000\n"
     ]
    }
   ],
   "source": [
    "sum = 1000\n",
    "for a in range(1, round(sum/3)):\n",
    "    for b in range(a+1, round(sum/2)):\n",
    "        c = sum - a - b\n",
    "        if ((a*a + b*b) == c*c) and (a + b + c == 1000):\n",
    "            print(\"{0} {1} {2}\".format(a, b, c))\n",
    "            print(\"Product is: {0}\".format(a*b*c))"
   ]
  },
  {
   "cell_type": "code",
   "execution_count": null,
   "metadata": {
    "collapsed": true
   },
   "outputs": [],
   "source": []
  }
 ],
 "metadata": {
  "kernelspec": {
   "display_name": "Python 3",
   "language": "python",
   "name": "python3"
  },
  "language_info": {
   "codemirror_mode": {
    "name": "ipython",
    "version": 3
   },
   "file_extension": ".py",
   "mimetype": "text/x-python",
   "name": "python",
   "nbconvert_exporter": "python",
   "pygments_lexer": "ipython3",
   "version": "3.5.1"
  }
 },
 "nbformat": 4,
 "nbformat_minor": 0
}
